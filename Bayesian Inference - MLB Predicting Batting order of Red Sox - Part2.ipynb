{
 "cells": [
  {
   "cell_type": "markdown",
   "metadata": {},
   "source": [
    "Since we have concluded our batting order in Sheet 1 , lets check if our prediction is correct by doing \n",
    "Posterior predictive checks"
   ]
  },
  {
   "cell_type": "code",
   "execution_count": 44,
   "metadata": {},
   "outputs": [],
   "source": [
    "%matplotlib inline\n",
    "import numpy as np\n",
    "import pandas as pd\n",
    "import matplotlib.pylab as plt\n",
    "import seaborn as sns\n",
    "sns.set_context('notebook')\n",
    "\n",
    "RANDOM_SEED = 20090425"
   ]
  },
  {
   "cell_type": "markdown",
   "metadata": {},
   "source": [
    "Read the data set of 9 players whose batting order was predicted in Sheet1."
   ]
  },
  {
   "cell_type": "code",
   "execution_count": 45,
   "metadata": {
    "scrolled": true
   },
   "outputs": [
    {
     "data": {
      "text/html": [
       "<div>\n",
       "<style scoped>\n",
       "    .dataframe tbody tr th:only-of-type {\n",
       "        vertical-align: middle;\n",
       "    }\n",
       "\n",
       "    .dataframe tbody tr th {\n",
       "        vertical-align: top;\n",
       "    }\n",
       "\n",
       "    .dataframe thead th {\n",
       "        text-align: right;\n",
       "    }\n",
       "</style>\n",
       "<table border=\"1\" class=\"dataframe\">\n",
       "  <thead>\n",
       "    <tr style=\"text-align: right;\">\n",
       "      <th></th>\n",
       "      <th>Name</th>\n",
       "      <th>WAR</th>\n",
       "      <th>OPS</th>\n",
       "      <th>ISO</th>\n",
       "      <th>HR</th>\n",
       "      <th>RBI</th>\n",
       "      <th>wOBA</th>\n",
       "      <th>Runs</th>\n",
       "    </tr>\n",
       "  </thead>\n",
       "  <tbody>\n",
       "    <tr>\n",
       "      <th>0</th>\n",
       "      <td>Mookie Battes</td>\n",
       "      <td>10.4</td>\n",
       "      <td>1.078</td>\n",
       "      <td>0.294</td>\n",
       "      <td>32</td>\n",
       "      <td>80</td>\n",
       "      <td>0.449</td>\n",
       "      <td>129</td>\n",
       "    </tr>\n",
       "    <tr>\n",
       "      <th>1</th>\n",
       "      <td>J.D.Martinez</td>\n",
       "      <td>5.9</td>\n",
       "      <td>1.031</td>\n",
       "      <td>0.229</td>\n",
       "      <td>43</td>\n",
       "      <td>130</td>\n",
       "      <td>0.427</td>\n",
       "      <td>111</td>\n",
       "    </tr>\n",
       "    <tr>\n",
       "      <th>2</th>\n",
       "      <td>Xander Bogarts</td>\n",
       "      <td>4.9</td>\n",
       "      <td>0.882</td>\n",
       "      <td>0.234</td>\n",
       "      <td>23</td>\n",
       "      <td>103</td>\n",
       "      <td>0.373</td>\n",
       "      <td>72</td>\n",
       "    </tr>\n",
       "    <tr>\n",
       "      <th>3</th>\n",
       "      <td>Steve Pearce</td>\n",
       "      <td>1.2</td>\n",
       "      <td>0.901</td>\n",
       "      <td>0.228</td>\n",
       "      <td>7</td>\n",
       "      <td>26</td>\n",
       "      <td>0.387</td>\n",
       "      <td>19</td>\n",
       "    </tr>\n",
       "    <tr>\n",
       "      <th>4</th>\n",
       "      <td>Rafael Devers</td>\n",
       "      <td>1.0</td>\n",
       "      <td>0.731</td>\n",
       "      <td>0.193</td>\n",
       "      <td>21</td>\n",
       "      <td>66</td>\n",
       "      <td>0.310</td>\n",
       "      <td>66</td>\n",
       "    </tr>\n",
       "    <tr>\n",
       "      <th>5</th>\n",
       "      <td>Andrew Benintendi</td>\n",
       "      <td>4.3</td>\n",
       "      <td>0.831</td>\n",
       "      <td>0.174</td>\n",
       "      <td>16</td>\n",
       "      <td>87</td>\n",
       "      <td>0.357</td>\n",
       "      <td>103</td>\n",
       "    </tr>\n",
       "    <tr>\n",
       "      <th>6</th>\n",
       "      <td>Mitch Morland</td>\n",
       "      <td>0.6</td>\n",
       "      <td>0.758</td>\n",
       "      <td>0.188</td>\n",
       "      <td>15</td>\n",
       "      <td>68</td>\n",
       "      <td>0.325</td>\n",
       "      <td>57</td>\n",
       "    </tr>\n",
       "    <tr>\n",
       "      <th>7</th>\n",
       "      <td>Jackie Bradley Jr</td>\n",
       "      <td>2.8</td>\n",
       "      <td>0.717</td>\n",
       "      <td>0.169</td>\n",
       "      <td>13</td>\n",
       "      <td>59</td>\n",
       "      <td>0.310</td>\n",
       "      <td>76</td>\n",
       "    </tr>\n",
       "    <tr>\n",
       "      <th>8</th>\n",
       "      <td>Brock Holt</td>\n",
       "      <td>1.4</td>\n",
       "      <td>0.773</td>\n",
       "      <td>0.134</td>\n",
       "      <td>7</td>\n",
       "      <td>46</td>\n",
       "      <td>0.338</td>\n",
       "      <td>41</td>\n",
       "    </tr>\n",
       "  </tbody>\n",
       "</table>\n",
       "</div>"
      ],
      "text/plain": [
       "                Name   WAR    OPS    ISO  HR  RBI   wOBA  Runs\n",
       "0      Mookie Battes  10.4  1.078  0.294  32   80  0.449   129\n",
       "1       J.D.Martinez   5.9  1.031  0.229  43  130  0.427   111\n",
       "2     Xander Bogarts   4.9  0.882  0.234  23  103  0.373    72\n",
       "3       Steve Pearce   1.2  0.901  0.228   7   26  0.387    19\n",
       "4      Rafael Devers   1.0  0.731  0.193  21   66  0.310    66\n",
       "5  Andrew Benintendi   4.3  0.831  0.174  16   87  0.357   103\n",
       "6      Mitch Morland   0.6  0.758  0.188  15   68  0.325    57\n",
       "7  Jackie Bradley Jr   2.8  0.717  0.169  13   59  0.310    76\n",
       "8         Brock Holt   1.4  0.773  0.134   7   46  0.338    41"
      ]
     },
     "execution_count": 45,
     "metadata": {},
     "output_type": "execute_result"
    }
   ],
   "source": [
    "baseball_game = pd.read_csv('data/BattingOrder_players.csv')\n",
    "baseball_game"
   ]
  },
  {
   "cell_type": "code",
   "execution_count": 5,
   "metadata": {},
   "outputs": [
    {
     "data": {
      "text/plain": [
       "(array(['Mookie Battes', 'J.D.Martinez', 'Xander Bogarts', 'Steve Pearce',\n",
       "        'Rafael Devers', 'Andrew Benintendi', 'Mitch Morland',\n",
       "        'Jackie Bradley Jr', 'Brock Holt'], dtype=object),\n",
       " array([10.4, 5.9, 4.9, 1.2, 1.0, 4.3, 0.6, 2.8, 1.4], dtype=object),\n",
       " array([1.078, 1.031, 0.882, 0.9009999999999999, 0.731, 0.831, 0.758,\n",
       "        0.7170000000000001, 0.773], dtype=object),\n",
       " array([129, 111, 72, 19, 66, 103, 57, 76, 41], dtype=object))"
      ]
     },
     "execution_count": 5,
     "metadata": {},
     "output_type": "execute_result"
    }
   ],
   "source": [
    "name1, war1, ops1,iso1 , hr1, rbi1, woba1, runs1,  = baseball_game.T.values\n",
    "name1, war1, ops1, runs1"
   ]
  },
  {
   "cell_type": "markdown",
   "metadata": {},
   "source": [
    "Priors:\n",
    "\n",
    "The first step in specifying our model is to specify priors for our model.\n",
    "\n",
    "Recall we use a linear model for μ, with an intercept (bias) factor and two linear factors slope1 and slope2 to represent our hyperparametes WAR,HR,OPS,ISO,WOBA,RBI \n",
    "\n",
    "μ=intercept+slope1∗x+slope2∗z\n",
    " \n",
    "We are going to model these factors as normal distributions with a wide support:\n",
    "\n",
    "∼Normal(0,100)\n",
    "∼Normal(0,100)\n",
    " \n",
    "and finally the standard deviation of our modelled Points will be a half Cauchy:\n",
    "\n",
    "σ∼HalfCauchy(1)\n",
    "σ∼HalfCauchy(1)\n",
    " \n",
    "The half-Cauchy distribution (half of a Cauchy) has support over positive continuous values, and relatively large tail probabilities, allowing for the possibility of extreme values. It is a very often used modeling pdf.\n",
    "\n",
    "Since we want to track slopes, we need to add them as deterministic variables of our model: pm.Deterministic.\n",
    "\n"
   ]
  },
  {
   "cell_type": "code",
   "execution_count": 18,
   "metadata": {},
   "outputs": [],
   "source": [
    "from pymc3 import Normal, HalfCauchy, Deterministic, Model\n",
    "import theano.tensor as tt\n",
    "\n",
    "with Model() as run_model:\n",
    "    \n",
    "    intercept = Normal('intercept', 0, sd=100)\n",
    "    slope1 = Normal('slope1', 0, sd=100)\n",
    "    slope2 = Normal('slope2', 0, sd=100)\n",
    "    slope3 = Normal('slope3', 0, sd=100)\n",
    "    slope4 = Normal('slope4', 0, sd=100)\n",
    "    slope5 = Normal('slope5', 0, sd=100)\n",
    "    slope6 = Normal('slope6', 0, sd=100)\n",
    "    war_prior = Deterministic('war_prior', slope1)\n",
    "    ops_prior = Deterministic('ops_prior', slope2)\n",
    "    iso_prior = Deterministic('iso_prior', slope3)\n",
    "    woba_prior = Deterministic('woba_prior', slope4)\n",
    "    rbi_prior = Deterministic('rbi_prior', slope5)\n",
    "    hr_prior = Deterministic('hr_prior', slope6)\n",
    "    σ = HalfCauchy('σ', 1)"
   ]
  },
  {
   "cell_type": "code",
   "execution_count": 19,
   "metadata": {},
   "outputs": [],
   "source": [
    "with run_model:\n",
    "    \n",
    "    μ = intercept + slope1*baseball_game.WAR + slope2*baseball_game.OPS + slope3*baseball_game.ISO + slope4*baseball_game.wOBA  + slope5*baseball_game.RBI  + slope6*baseball_game.HR\n",
    "    points = Normal('points', μ, sd=σ, observed=baseball_game.Runs)\n",
    "   "
   ]
  },
  {
   "cell_type": "markdown",
   "metadata": {},
   "source": [
    "All right! Now our regression model is fully specified and we are ready to track your posteriors.\n",
    "\n",
    "You can now use the fitting method of our choice to estimate a posterior distribution. Let's use a Markov chain Monte Carlo algorithm, called NUTS (the No U-Turn Sampler)."
   ]
  },
  {
   "cell_type": "code",
   "execution_count": 20,
   "metadata": {
    "scrolled": true
   },
   "outputs": [
    {
     "name": "stderr",
     "output_type": "stream",
     "text": [
      "Auto-assigning NUTS sampler...\n",
      "Initializing NUTS using jitter+adapt_diag...\n",
      "Multiprocess sampling (4 chains in 4 jobs)\n",
      "NUTS: [σ, hr_prior, rbi_prior, woba_prior, iso_prior, ops_prior, war_prior, intercept]\n",
      "Sampling 4 chains: 100%|██████████| 6000/6000 [00:39<00:00, 152.93draws/s]\n",
      "There were 54 divergences after tuning. Increase `target_accept` or reparameterize.\n",
      "There were 67 divergences after tuning. Increase `target_accept` or reparameterize.\n",
      "The acceptance probability does not match the target. It is 0.7215201992050717, but should be close to 0.8. Try to increase the number of tuning steps.\n",
      "There were 58 divergences after tuning. Increase `target_accept` or reparameterize.\n",
      "There were 78 divergences after tuning. Increase `target_accept` or reparameterize.\n",
      "The acceptance probability does not match the target. It is 0.7151819656960438, but should be close to 0.8. Try to increase the number of tuning steps.\n",
      "The number of effective samples is smaller than 10% for some parameters.\n"
     ]
    }
   ],
   "source": [
    "from pymc3 import sample\n",
    "\n",
    "with run_model:\n",
    "\n",
    "    game_sample = sample(1000, random_seed=RANDOM_SEED)\n",
    "\n",
    "    "
   ]
  },
  {
   "cell_type": "markdown",
   "metadata": {},
   "source": [
    "We get our posteriors of hyperparameters in above step, now let's plot them"
   ]
  },
  {
   "cell_type": "code",
   "execution_count": 46,
   "metadata": {
    "scrolled": true
   },
   "outputs": [
    {
     "data": {
      "text/plain": [
       "array([<matplotlib.axes._subplots.AxesSubplot object at 0x000001ABACEFCA90>,\n",
       "       <matplotlib.axes._subplots.AxesSubplot object at 0x000001ABAE1CA710>,\n",
       "       <matplotlib.axes._subplots.AxesSubplot object at 0x000001ABAE1E09E8>,\n",
       "       <matplotlib.axes._subplots.AxesSubplot object at 0x000001ABAE209CC0>,\n",
       "       <matplotlib.axes._subplots.AxesSubplot object at 0x000001ABAE232FD0>,\n",
       "       <matplotlib.axes._subplots.AxesSubplot object at 0x000001ABAE2642B0>,\n",
       "       <matplotlib.axes._subplots.AxesSubplot object at 0x000001ABAE28E588>,\n",
       "       <matplotlib.axes._subplots.AxesSubplot object at 0x000001ABAE2B5860>],\n",
       "      dtype=object)"
      ]
     },
     "execution_count": 46,
     "metadata": {},
     "output_type": "execute_result"
    },
    {
     "data": {
      "image/png": "[encoded data removed]",
      "text/plain": [
       "<Figure size 864x720 with 8 Axes>"
      ]
     },
     "metadata": {},
     "output_type": "display_data"
    }
   ],
   "source": [
    "from pymc3 import plot_posterior\n",
    "\n",
    "#plot_posterior(game_sample[500:], varnames=['intercept', 'ops_prior', 'war_prior', 'σ']);\n",
    "plot_posterior(game_sample)"
   ]
  },
  {
   "cell_type": "code",
   "execution_count": 22,
   "metadata": {},
   "outputs": [
    {
     "data": {
      "text/plain": [
       "<MultiTrace: 4 chains, 1000 iterations, 15 variables>"
      ]
     },
     "execution_count": 22,
     "metadata": {},
     "output_type": "execute_result"
    }
   ],
   "source": [
    "game_sample"
   ]
  },
  {
   "cell_type": "markdown",
   "metadata": {},
   "source": [
    "Lets check our model by doing the Posterior prediction check "
   ]
  },
  {
   "cell_type": "code",
   "execution_count": 40,
   "metadata": {},
   "outputs": [
    {
     "name": "stderr",
     "output_type": "stream",
     "text": [
      "100%|██████████| 1000/1000 [00:01<00:00, 572.99it/s]\n"
     ]
    }
   ],
   "source": [
    "from pymc3 import sample_ppc\n",
    "\n",
    "with run_model:\n",
    "    \n",
    "    game_ppc = sample_ppc(game_sample,1000)"
   ]
  },
  {
   "cell_type": "code",
   "execution_count": 41,
   "metadata": {},
   "outputs": [
    {
     "data": {
      "text/plain": [
       "(1000, 9)"
      ]
     },
     "execution_count": 41,
     "metadata": {},
     "output_type": "execute_result"
    }
   ],
   "source": [
    "game_ppc['points'].shape"
   ]
  },
  {
   "cell_type": "code",
   "execution_count": 42,
   "metadata": {
    "scrolled": true
   },
   "outputs": [
    {
     "data": {
      "text/plain": [
       "array([[186.97231539,  75.00524259, 119.94733101, ..., 135.86753036,\n",
       "        130.11806108, 114.01524754],\n",
       "       [136.16291758, 115.40832634, 105.31090522, ...,  93.56559446,\n",
       "         96.73550606,  95.48383455],\n",
       "       [ 93.07092005, 123.07702064,  93.7134089 , ...,  96.60786948,\n",
       "         92.65157388,  81.88324146],\n",
       "       ...,\n",
       "       [ 59.47635327,  45.86890938,  35.68200362, ...,  62.68607148,\n",
       "         55.83906855,  50.47374326],\n",
       "       [ 33.37967615,  92.80712618,  62.4409294 , ...,  94.91806168,\n",
       "         74.37409438,  98.97663939],\n",
       "       [ 10.87038033,  46.77406937,  47.79790003, ...,  32.91588798,\n",
       "         47.29907003,  50.00928666]])"
      ]
     },
     "execution_count": 42,
     "metadata": {},
     "output_type": "execute_result"
    }
   ],
   "source": [
    "game_points = game_ppc['points'].T\n",
    "game_points"
   ]
  },
  {
   "cell_type": "markdown",
   "metadata": {},
   "source": [
    "Compare the real data (our data set) with the ppc/simulated data and plot the runs (our hidden/latent parameter)"
   ]
  },
  {
   "cell_type": "code",
   "execution_count": 47,
   "metadata": {},
   "outputs": [
    {
     "data": {
      "image/png": "[encoded data removed]",
      "text/plain": [
       "<Figure size 432x288 with 10 Axes>"
      ]
     },
     "metadata": {},
     "output_type": "display_data"
    }
   ],
   "source": [
    "game_ppc = fig, axes = plt.subplots(5, 2)\n",
    "axes_flat = axes.flatten()\n",
    "\n",
    "for ax, real_data, sim_data in zip(axes_flat[:], runs1, game_points):\n",
    "    ax.hist(sim_data, bins=20)\n",
    "    ax.vlines(real_data, *ax.get_ylim(), colors='red')\n",
    "    ax.set_yticklabels([])\n",
    "    sns.despine(left=True)\n",
    "\n",
    "plt.tight_layout()"
   ]
  },
  {
   "cell_type": "markdown",
   "metadata": {},
   "source": [
    "ok , so the runs are plotted fine on the sampled data "
   ]
  },
  {
   "cell_type": "code",
   "execution_count": 37,
   "metadata": {
    "scrolled": true
   },
   "outputs": [
    {
     "data": {
      "text/plain": [
       "array([[147.54960401, 115.9401065 , 129.2228489 , ..., 114.76173155,\n",
       "        150.42140656, 116.66353253],\n",
       "       [137.1288538 , 121.63948065,  34.51273272, ..., 109.45490714,\n",
       "        111.96963522, 101.00482929],\n",
       "       [137.18013223,  85.13666411, 136.14968269, ..., 147.91076932,\n",
       "         96.05234998, 103.69986041],\n",
       "       ...,\n",
       "       [ 17.65037821,  56.4002094 ,  34.12541272, ...,  65.50359182,\n",
       "         48.79469644,  39.5638621 ],\n",
       "       [ 56.05764977,  67.55423943,  78.1381892 , ...,  61.85448795,\n",
       "         98.43242758,  59.6860927 ],\n",
       "       [ 45.41802306,  28.07727551,  33.31673133, ...,  80.91860212,\n",
       "         60.45389983,  50.1796851 ]])"
      ]
     },
     "execution_count": 37,
     "metadata": {},
     "output_type": "execute_result"
    }
   ],
   "source": [
    "game_points"
   ]
  },
  {
   "cell_type": "markdown",
   "metadata": {},
   "source": [
    "Now, lets take the mean of all the sampled PPC data (our PPC simulated data contains the samples of runs of all the 9 predicted players)"
   ]
  },
  {
   "cell_type": "code",
   "execution_count": 43,
   "metadata": {
    "scrolled": true
   },
   "outputs": [
    {
     "data": {
      "text/plain": [
       "array([125.21665966, 111.91465434,  95.01574832,  26.69248462,\n",
       "        58.49892117,  85.98016627,  51.58486153,  69.83367291,\n",
       "        47.27742946])"
      ]
     },
     "execution_count": 43,
     "metadata": {},
     "output_type": "execute_result"
    }
   ],
   "source": [
    "sum_all_points = sum(game_ppc['points'])\n",
    "avg_all_points = sum_all_points/1000\n",
    "avg_all_points"
   ]
  },
  {
   "cell_type": "markdown",
   "metadata": {},
   "source": [
    "We observe the avergae of all the players and realize that maybe our prediction of players in sheet 1 is a bit incorrect"
   ]
  },
  {
   "cell_type": "raw",
   "metadata": {},
   "source": [
    "Conclusion:\n",
    "\n",
    "# From conclusion , we check the average expected score of each player in avg_all_points variable and compare the batting order of the concluded score after ppc above with the posterior conclusion and we see that the batting order varies a bit.\n",
    "The positions of 1st , 2nd 3rd stays same ,whereas there is a change in the batting order from 5th to 9th player.\n",
    "\n",
    "Our Conclusion from previous sheet:\n",
    "\n",
    "   1 : WAR high +  OPS high\n",
    "   2 : WAR high + OPS high\n",
    "   3 : All rounder hitter -(RBI + HR)\n",
    "   4:  ISO + HR\n",
    "   5 : ISO + HR\n",
    "   6 : RBI + HR\n",
    "   7 : wOBA (Weighted on base average)\n",
    "   8 : wOBA (Weighted on base average)\n",
    "   9 : wOBA (Weighted on base average)\n",
    "\n",
    "1st : Mookie Battes \n",
    "2nd : J.D.Martinez\n",
    "3rd : Xander Bogarts \n",
    "4th : Steve Pearce \n",
    "5th : Rafael Devers \n",
    "6th : Andrew Benintendi \n",
    "7th : Mitch Morland \n",
    "8th : Jackie Bradley Jr \n",
    "9th : Brock Holt\n",
    "\n",
    "From the mean taken above , we observe that the ranking order will change and hence our posterior model needes to change the selection of players (criteria) as per the predictions resulted from above.\n",
    "\n",
    "Lets change the criteria and select the players again !!\n",
    "\n",
    "Position 1 :\n",
    "Position 1 remains same.\n",
    "\n",
    "Position 2 :\n",
    "Position 2 remains same.\n",
    "\n",
    "Position 3 :\n",
    "Position 3 remains same.\n",
    "\n",
    "Positon 4 : \n",
    "Previously we took the prediction of RBI+ HR of a given player to be at 6th position\n",
    "from our predictions above ,we choose the player from this criteria to be positioned at 4th.(Andrew Benintendi will be changed from 6th to 4th now)\n",
    "\n",
    "Positon 5 : \n",
    "Previously we took the prediction of wOBA of a given player to be at 8th  position\n",
    "from our predictions above ,we choose the player from this criteria to be positioned at 5th.(Jackie Bradley Jr  will be changed from 8th to 4th now)\n",
    "\n",
    "Positon 6 : \n",
    "We place Rafel Devers at 6th Position from 5th.\n",
    "\n",
    "Position 7 :\n",
    "Position 7 remains same.\n",
    "\n",
    "Position 8 :\n",
    "We place Brock holt at 9th Position from 8th,the criteria remains unchanged\n",
    "\n",
    "Position 9 :\n",
    "We shift Steve Pearce from 4th position to 9th position\n",
    "\n",
    "\n",
    "Final Criteria decided after predictions:\n",
    "\n",
    "   1 : WAR high +  OPS high\n",
    "   2 : WAR high + OPS high\n",
    "   3 : RBI + HR\n",
    "   4 : RBI + HR\n",
    "   5 : wOBA (Weighted on base average)\n",
    "   6 : ISO+HR \n",
    "   7 : wOBA (Weighted on base average)\n",
    "   8 : wOBA (Weighted on base average)\n",
    "   9 : ISO + HR\n",
    "\n",
    "\n",
    "1st : Mookie Battes \n",
    "2nd : J.D.Martinez\n",
    "3rd : Xander Bogarts \n",
    "4th : Andrew Benintendi \n",
    "5th : Jackie Bradley Jr \n",
    "6th : Rafael Devers \n",
    "7th : Mitch Morland \n",
    "8th : Brock Holt \n",
    "9th : Steve Pearce\n",
    "\n",
    "\n"
   ]
  }
 ],
 "metadata": {
  "kernelspec": {
   "display_name": "Python 3",
   "language": "python",
   "name": "python3"
  },
  "language_info": {
   "codemirror_mode": {
    "name": "ipython",
    "version": 3
   },
   "file_extension": ".py",
   "mimetype": "text/x-python",
   "name": "python",
   "nbconvert_exporter": "python",
   "pygments_lexer": "ipython3",
   "version": "3.6.5"
  }
 },
 "nbformat": 4,
 "nbformat_minor": 2
}
