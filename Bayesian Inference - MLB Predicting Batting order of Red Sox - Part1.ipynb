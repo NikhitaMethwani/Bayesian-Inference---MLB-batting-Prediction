{
 "cells": [
  {
   "cell_type": "markdown",
   "metadata": {},
   "source": [
    "Problem Statement : \n",
    "    \n",
    "    The Red Sox are in panic mode, and they just hired you for a million dollar salary to build\n",
    "    data analytics for them to predict best possible batting order to beat the Yankees.Build the \n",
    "    most appropriate model and predict the batting ranks of Red Sox.   "
   ]
  },
  {
   "cell_type": "code",
   "execution_count": 1,
   "metadata": {},
   "outputs": [
    {
     "name": "stderr",
     "output_type": "stream",
     "text": [
      "C:\\Users\\nikhi\\Anaconda3\\lib\\site-packages\\h5py\\__init__.py:36: FutureWarning: Conversion of the second argument of issubdtype from `float` to `np.floating` is deprecated. In future, it will be treated as `np.float64 == np.dtype(float).type`.\n",
      "  from ._conv import register_converters as _register_converters\n"
     ]
    }
   ],
   "source": [
    "%matplotlib inline\n",
    "import numpy as np\n",
    "import pandas as pd\n",
    "import matplotlib.pylab as plt\n",
    "import seaborn as sns\n",
    "import pymc3 as pm\n",
    "import theano.tensor as tt\n",
    "sns.set_context('notebook')\n",
    "\n",
    "RANDOM_SEED = 20090425\n"
   ]
  },
  {
   "cell_type": "markdown",
   "metadata": {},
   "source": [
    "The dataset is formed manually by referring multiple MLB sites such as \n",
    "http://www.espn.com/mlb/team/stats/batting/_/name/bos   \n",
    "https://www.foxsports.com/mlb/boston-red-sox-team-stats\n",
    "\n",
    "We have considered the data frame having various paramters of RedSox players against multiple games.\n",
    "\n",
    "Lets upload the data set here.\n",
    "\n",
    "\n",
    "Few Terminologies with their meaning : \n",
    "\n",
    "OPS:On-base plus slugging is a sabermetric baseball statistic calculated as the sum of a player's on-base percentage and slugging average. \n",
    "\n",
    "\n",
    "PA:In baseball statistics, a player is credited with a plate appearance (denoted by PA) each time he completes a turn batting.  \n",
    "\n",
    "\n",
    "HR:a home run (abbreviated HR) is scored when the ball is hit in such a way that the batter is able to circle the bases and reach home safely in one play without any errors being committed by the defensive team in the process.  \n",
    "\n",
    "\n",
    "ISO:Isolated Power or ISO is a sabermetric computation used to measure a batter's raw power.  \n",
    "\n",
    "\n",
    "WAR:Wins Above Replacement (WAR) is an attempt by the sabermetric baseball community to summarize a player's total contributions to their team in one statistic. You should always use more than one metric at a time when evaluating players, but WAR is all-inclusive and provides a useful reference point for comparing players.  \n",
    "\n",
    "\n",
    "wOBA:wOBA is a statistic, based on linear weights, designed to measure a player's overall offensive contributions per plate appearance.\n"
   ]
  },
  {
   "cell_type": "code",
   "execution_count": 2,
   "metadata": {},
   "outputs": [],
   "source": [
    "try: \n",
    "    baseball = pd.read_csv('data/P_STATS.csv')\n",
    "except:\n",
    "    baseball = pd.read_csv(pm.get_data('data/P_STATS.csv'))"
   ]
  },
  {
   "cell_type": "code",
   "execution_count": 3,
   "metadata": {},
   "outputs": [],
   "source": [
    "baseball['OPS'] = baseball.OBP + baseball.SLG"
   ]
  },
  {
   "cell_type": "code",
   "execution_count": 4,
   "metadata": {},
   "outputs": [
    {
     "data": {
      "text/html": [
       "<div>\n",
       "<style scoped>\n",
       "    .dataframe tbody tr th:only-of-type {\n",
       "        vertical-align: middle;\n",
       "    }\n",
       "\n",
       "    .dataframe tbody tr th {\n",
       "        vertical-align: top;\n",
       "    }\n",
       "\n",
       "    .dataframe thead th {\n",
       "        text-align: right;\n",
       "    }\n",
       "</style>\n",
       "<table border=\"1\" class=\"dataframe\">\n",
       "  <thead>\n",
       "    <tr style=\"text-align: right;\">\n",
       "      <th></th>\n",
       "      <th>#</th>\n",
       "      <th>Name</th>\n",
       "      <th>G</th>\n",
       "      <th>PA</th>\n",
       "      <th>HR</th>\n",
       "      <th>R</th>\n",
       "      <th>RBI</th>\n",
       "      <th>SB</th>\n",
       "      <th>BB</th>\n",
       "      <th>K</th>\n",
       "      <th>...</th>\n",
       "      <th>AVG</th>\n",
       "      <th>OBP</th>\n",
       "      <th>SLG</th>\n",
       "      <th>wOBA</th>\n",
       "      <th>wRC+</th>\n",
       "      <th>BsR</th>\n",
       "      <th>Off</th>\n",
       "      <th>Def</th>\n",
       "      <th>WAR</th>\n",
       "      <th>OPS</th>\n",
       "    </tr>\n",
       "  </thead>\n",
       "  <tbody>\n",
       "    <tr>\n",
       "      <th>0</th>\n",
       "      <td>1</td>\n",
       "      <td>Mookie Betts</td>\n",
       "      <td>136</td>\n",
       "      <td>614</td>\n",
       "      <td>32</td>\n",
       "      <td>129</td>\n",
       "      <td>80</td>\n",
       "      <td>30</td>\n",
       "      <td>13.200</td>\n",
       "      <td>14.800</td>\n",
       "      <td>...</td>\n",
       "      <td>0.346</td>\n",
       "      <td>0.438</td>\n",
       "      <td>0.640</td>\n",
       "      <td>0.449</td>\n",
       "      <td>185</td>\n",
       "      <td>6.9</td>\n",
       "      <td>79.1</td>\n",
       "      <td>11.6</td>\n",
       "      <td>10.4</td>\n",
       "      <td>1.078</td>\n",
       "    </tr>\n",
       "    <tr>\n",
       "      <th>1</th>\n",
       "      <td>2</td>\n",
       "      <td>J.D. Martinez</td>\n",
       "      <td>150</td>\n",
       "      <td>649</td>\n",
       "      <td>43</td>\n",
       "      <td>111</td>\n",
       "      <td>130</td>\n",
       "      <td>6</td>\n",
       "      <td>0.106</td>\n",
       "      <td>0.225</td>\n",
       "      <td>...</td>\n",
       "      <td>0.330</td>\n",
       "      <td>0.402</td>\n",
       "      <td>0.629</td>\n",
       "      <td>0.427</td>\n",
       "      <td>170</td>\n",
       "      <td>-4.1</td>\n",
       "      <td>60.2</td>\n",
       "      <td>-14.7</td>\n",
       "      <td>5.9</td>\n",
       "      <td>1.031</td>\n",
       "    </tr>\n",
       "    <tr>\n",
       "      <th>2</th>\n",
       "      <td>3</td>\n",
       "      <td>Xander Bogaerts</td>\n",
       "      <td>136</td>\n",
       "      <td>580</td>\n",
       "      <td>23</td>\n",
       "      <td>72</td>\n",
       "      <td>103</td>\n",
       "      <td>8</td>\n",
       "      <td>0.095</td>\n",
       "      <td>0.176</td>\n",
       "      <td>...</td>\n",
       "      <td>0.288</td>\n",
       "      <td>0.360</td>\n",
       "      <td>0.522</td>\n",
       "      <td>0.373</td>\n",
       "      <td>133</td>\n",
       "      <td>-1.7</td>\n",
       "      <td>31.0</td>\n",
       "      <td>7.2</td>\n",
       "      <td>4.9</td>\n",
       "      <td>0.882</td>\n",
       "    </tr>\n",
       "    <tr>\n",
       "      <th>3</th>\n",
       "      <td>4</td>\n",
       "      <td>Andrew Benintendi</td>\n",
       "      <td>148</td>\n",
       "      <td>661</td>\n",
       "      <td>16</td>\n",
       "      <td>103</td>\n",
       "      <td>87</td>\n",
       "      <td>21</td>\n",
       "      <td>0.107</td>\n",
       "      <td>0.160</td>\n",
       "      <td>...</td>\n",
       "      <td>0.290</td>\n",
       "      <td>0.366</td>\n",
       "      <td>0.465</td>\n",
       "      <td>0.357</td>\n",
       "      <td>122</td>\n",
       "      <td>4.3</td>\n",
       "      <td>31.9</td>\n",
       "      <td>-1.5</td>\n",
       "      <td>4.3</td>\n",
       "      <td>0.831</td>\n",
       "    </tr>\n",
       "    <tr>\n",
       "      <th>4</th>\n",
       "      <td>5</td>\n",
       "      <td>Jackie Bradley Jr.</td>\n",
       "      <td>144</td>\n",
       "      <td>535</td>\n",
       "      <td>13</td>\n",
       "      <td>76</td>\n",
       "      <td>59</td>\n",
       "      <td>17</td>\n",
       "      <td>0.086</td>\n",
       "      <td>0.256</td>\n",
       "      <td>...</td>\n",
       "      <td>0.234</td>\n",
       "      <td>0.314</td>\n",
       "      <td>0.403</td>\n",
       "      <td>0.310</td>\n",
       "      <td>90</td>\n",
       "      <td>5.7</td>\n",
       "      <td>9.4</td>\n",
       "      <td>10.1</td>\n",
       "      <td>2.8</td>\n",
       "      <td>0.717</td>\n",
       "    </tr>\n",
       "    <tr>\n",
       "      <th>5</th>\n",
       "      <td>6</td>\n",
       "      <td>Brock Holt</td>\n",
       "      <td>109</td>\n",
       "      <td>367</td>\n",
       "      <td>7</td>\n",
       "      <td>41</td>\n",
       "      <td>46</td>\n",
       "      <td>7</td>\n",
       "      <td>0.101</td>\n",
       "      <td>0.199</td>\n",
       "      <td>...</td>\n",
       "      <td>0.277</td>\n",
       "      <td>0.362</td>\n",
       "      <td>0.411</td>\n",
       "      <td>0.338</td>\n",
       "      <td>109</td>\n",
       "      <td>-4.8</td>\n",
       "      <td>9.3</td>\n",
       "      <td>2.3</td>\n",
       "      <td>1.4</td>\n",
       "      <td>0.773</td>\n",
       "    </tr>\n",
       "    <tr>\n",
       "      <th>6</th>\n",
       "      <td>7</td>\n",
       "      <td>Steve Pearce</td>\n",
       "      <td>50</td>\n",
       "      <td>165</td>\n",
       "      <td>7</td>\n",
       "      <td>19</td>\n",
       "      <td>26</td>\n",
       "      <td>0</td>\n",
       "      <td>0.133</td>\n",
       "      <td>0.164</td>\n",
       "      <td>...</td>\n",
       "      <td>0.279</td>\n",
       "      <td>0.394</td>\n",
       "      <td>0.507</td>\n",
       "      <td>0.387</td>\n",
       "      <td>143</td>\n",
       "      <td>1.2</td>\n",
       "      <td>19.6</td>\n",
       "      <td>-3.0</td>\n",
       "      <td>1.2</td>\n",
       "      <td>0.901</td>\n",
       "    </tr>\n",
       "    <tr>\n",
       "      <th>7</th>\n",
       "      <td>8</td>\n",
       "      <td>Rafael Devers</td>\n",
       "      <td>121</td>\n",
       "      <td>490</td>\n",
       "      <td>21</td>\n",
       "      <td>59</td>\n",
       "      <td>66</td>\n",
       "      <td>5</td>\n",
       "      <td>0.078</td>\n",
       "      <td>0.247</td>\n",
       "      <td>...</td>\n",
       "      <td>0.240</td>\n",
       "      <td>0.298</td>\n",
       "      <td>0.433</td>\n",
       "      <td>0.310</td>\n",
       "      <td>90</td>\n",
       "      <td>2.2</td>\n",
       "      <td>6.3</td>\n",
       "      <td>-3.0</td>\n",
       "      <td>1.0</td>\n",
       "      <td>0.731</td>\n",
       "    </tr>\n",
       "    <tr>\n",
       "      <th>8</th>\n",
       "      <td>9</td>\n",
       "      <td>Mitch Moreland</td>\n",
       "      <td>124</td>\n",
       "      <td>459</td>\n",
       "      <td>15</td>\n",
       "      <td>57</td>\n",
       "      <td>68</td>\n",
       "      <td>2</td>\n",
       "      <td>0.109</td>\n",
       "      <td>0.222</td>\n",
       "      <td>...</td>\n",
       "      <td>0.245</td>\n",
       "      <td>0.325</td>\n",
       "      <td>0.433</td>\n",
       "      <td>0.325</td>\n",
       "      <td>100</td>\n",
       "      <td>-4.1</td>\n",
       "      <td>6.2</td>\n",
       "      <td>-5.1</td>\n",
       "      <td>0.6</td>\n",
       "      <td>0.758</td>\n",
       "    </tr>\n",
       "    <tr>\n",
       "      <th>9</th>\n",
       "      <td>10</td>\n",
       "      <td>Rick Porcello</td>\n",
       "      <td>33</td>\n",
       "      <td>7</td>\n",
       "      <td>0</td>\n",
       "      <td>1</td>\n",
       "      <td>3</td>\n",
       "      <td>0</td>\n",
       "      <td>0.000</td>\n",
       "      <td>0.429</td>\n",
       "      <td>...</td>\n",
       "      <td>0.429</td>\n",
       "      <td>0.429</td>\n",
       "      <td>0.714</td>\n",
       "      <td>0.482</td>\n",
       "      <td>207</td>\n",
       "      <td>0.0</td>\n",
       "      <td>10.9</td>\n",
       "      <td>0.8</td>\n",
       "      <td>0.2</td>\n",
       "      <td>1.143</td>\n",
       "    </tr>\n",
       "    <tr>\n",
       "      <th>10</th>\n",
       "      <td>11</td>\n",
       "      <td>Ian Kinsler</td>\n",
       "      <td>37</td>\n",
       "      <td>143</td>\n",
       "      <td>1</td>\n",
       "      <td>17</td>\n",
       "      <td>16</td>\n",
       "      <td>7</td>\n",
       "      <td>0.070</td>\n",
       "      <td>0.168</td>\n",
       "      <td>...</td>\n",
       "      <td>0.242</td>\n",
       "      <td>0.294</td>\n",
       "      <td>0.311</td>\n",
       "      <td>0.269</td>\n",
       "      <td>62</td>\n",
       "      <td>1.5</td>\n",
       "      <td>4.9</td>\n",
       "      <td>0.8</td>\n",
       "      <td>0.0</td>\n",
       "      <td>0.605</td>\n",
       "    </tr>\n",
       "    <tr>\n",
       "      <th>11</th>\n",
       "      <td>12</td>\n",
       "      <td>Tzu-Wei Lin</td>\n",
       "      <td>37</td>\n",
       "      <td>73</td>\n",
       "      <td>1</td>\n",
       "      <td>15</td>\n",
       "      <td>6</td>\n",
       "      <td>0</td>\n",
       "      <td>0.110</td>\n",
       "      <td>0.233</td>\n",
       "      <td>...</td>\n",
       "      <td>0.246</td>\n",
       "      <td>0.329</td>\n",
       "      <td>0.415</td>\n",
       "      <td>0.324</td>\n",
       "      <td>99</td>\n",
       "      <td>-0.4</td>\n",
       "      <td>9.5</td>\n",
       "      <td>-1.6</td>\n",
       "      <td>0.0</td>\n",
       "      <td>0.744</td>\n",
       "    </tr>\n",
       "    <tr>\n",
       "      <th>12</th>\n",
       "      <td>13</td>\n",
       "      <td>Brian Johnson</td>\n",
       "      <td>38</td>\n",
       "      <td>4</td>\n",
       "      <td>0</td>\n",
       "      <td>1</td>\n",
       "      <td>0</td>\n",
       "      <td>0</td>\n",
       "      <td>0.000</td>\n",
       "      <td>0.250</td>\n",
       "      <td>...</td>\n",
       "      <td>0.250</td>\n",
       "      <td>0.250</td>\n",
       "      <td>0.250</td>\n",
       "      <td>0.220</td>\n",
       "      <td>28</td>\n",
       "      <td>0.0</td>\n",
       "      <td>9.7</td>\n",
       "      <td>0.5</td>\n",
       "      <td>0.0</td>\n",
       "      <td>0.500</td>\n",
       "    </tr>\n",
       "    <tr>\n",
       "      <th>13</th>\n",
       "      <td>14</td>\n",
       "      <td>Nathan Eovaldi</td>\n",
       "      <td>12</td>\n",
       "      <td>3</td>\n",
       "      <td>0</td>\n",
       "      <td>1</td>\n",
       "      <td>0</td>\n",
       "      <td>0</td>\n",
       "      <td>0.333</td>\n",
       "      <td>0.667</td>\n",
       "      <td>...</td>\n",
       "      <td>0.000</td>\n",
       "      <td>0.333</td>\n",
       "      <td>0.000</td>\n",
       "      <td>0.230</td>\n",
       "      <td>35</td>\n",
       "      <td>0.0</td>\n",
       "      <td>9.8</td>\n",
       "      <td>0.4</td>\n",
       "      <td>0.0</td>\n",
       "      <td>0.333</td>\n",
       "    </tr>\n",
       "  </tbody>\n",
       "</table>\n",
       "<p>14 rows × 22 columns</p>\n",
       "</div>"
      ],
      "text/plain": [
       "     #                Name    G   PA  HR    R  RBI  SB      BB       K  ...    \\\n",
       "0    1        Mookie Betts  136  614  32  129   80  30  13.200  14.800  ...     \n",
       "1    2       J.D. Martinez  150  649  43  111  130   6   0.106   0.225  ...     \n",
       "2    3     Xander Bogaerts  136  580  23   72  103   8   0.095   0.176  ...     \n",
       "3    4   Andrew Benintendi  148  661  16  103   87  21   0.107   0.160  ...     \n",
       "4    5  Jackie Bradley Jr.  144  535  13   76   59  17   0.086   0.256  ...     \n",
       "5    6          Brock Holt  109  367   7   41   46   7   0.101   0.199  ...     \n",
       "6    7        Steve Pearce   50  165   7   19   26   0   0.133   0.164  ...     \n",
       "7    8       Rafael Devers  121  490  21   59   66   5   0.078   0.247  ...     \n",
       "8    9      Mitch Moreland  124  459  15   57   68   2   0.109   0.222  ...     \n",
       "9   10       Rick Porcello   33    7   0    1    3   0   0.000   0.429  ...     \n",
       "10  11         Ian Kinsler   37  143   1   17   16   7   0.070   0.168  ...     \n",
       "11  12         Tzu-Wei Lin   37   73   1   15    6   0   0.110   0.233  ...     \n",
       "12  13       Brian Johnson   38    4   0    1    0   0   0.000   0.250  ...     \n",
       "13  14      Nathan Eovaldi   12    3   0    1    0   0   0.333   0.667  ...     \n",
       "\n",
       "      AVG    OBP    SLG   wOBA  wRC+  BsR   Off   Def   WAR    OPS  \n",
       "0   0.346  0.438  0.640  0.449   185  6.9  79.1  11.6  10.4  1.078  \n",
       "1   0.330  0.402  0.629  0.427   170 -4.1  60.2 -14.7   5.9  1.031  \n",
       "2   0.288  0.360  0.522  0.373   133 -1.7  31.0   7.2   4.9  0.882  \n",
       "3   0.290  0.366  0.465  0.357   122  4.3  31.9  -1.5   4.3  0.831  \n",
       "4   0.234  0.314  0.403  0.310    90  5.7   9.4  10.1   2.8  0.717  \n",
       "5   0.277  0.362  0.411  0.338   109 -4.8   9.3   2.3   1.4  0.773  \n",
       "6   0.279  0.394  0.507  0.387   143  1.2  19.6  -3.0   1.2  0.901  \n",
       "7   0.240  0.298  0.433  0.310    90  2.2   6.3  -3.0   1.0  0.731  \n",
       "8   0.245  0.325  0.433  0.325   100 -4.1   6.2  -5.1   0.6  0.758  \n",
       "9   0.429  0.429  0.714  0.482   207  0.0  10.9   0.8   0.2  1.143  \n",
       "10  0.242  0.294  0.311  0.269    62  1.5   4.9   0.8   0.0  0.605  \n",
       "11  0.246  0.329  0.415  0.324    99 -0.4   9.5  -1.6   0.0  0.744  \n",
       "12  0.250  0.250  0.250  0.220    28  0.0   9.7   0.5   0.0  0.500  \n",
       "13  0.000  0.333  0.000  0.230    35  0.0   9.8   0.4   0.0  0.333  \n",
       "\n",
       "[14 rows x 22 columns]"
      ]
     },
     "execution_count": 4,
     "metadata": {},
     "output_type": "execute_result"
    }
   ],
   "source": [
    "baseball"
   ]
  },
  {
   "cell_type": "markdown",
   "metadata": {},
   "source": [
    "WAR of a player is directly related to the Winning probability of a team. A High WAR value means \n",
    "the player has a high contribution in Winning matches.  \n",
    "Lets find the correlation of WAR with respect to other parameters -"
   ]
  },
  {
   "cell_type": "code",
   "execution_count": 6,
   "metadata": {},
   "outputs": [
    {
     "data": {
      "text/plain": [
       "#       -0.871013\n",
       "BABIP    0.095832\n",
       "Def      0.281956\n",
       "BsR      0.371997\n",
       "AVG      0.384114\n",
       "SLG      0.529223\n",
       "wOBA     0.570288\n",
       "wRC+     0.571763\n",
       "OPS      0.574252\n",
       "OBP      0.594173\n",
       "ISO      0.600425\n",
       "G        0.690454\n",
       "RBI      0.737292\n",
       "K        0.749708\n",
       "PA       0.749785\n",
       "BB       0.758016\n",
       "SB       0.819905\n",
       "HR       0.820388\n",
       "R        0.888944\n",
       "Off      0.945315\n",
       "WAR      1.000000\n",
       "Name: WAR, dtype: float64"
      ]
     },
     "execution_count": 6,
     "metadata": {},
     "output_type": "execute_result"
    }
   ],
   "source": [
    "baseball.corr()['WAR'].sort_values()"
   ]
  },
  {
   "cell_type": "markdown",
   "metadata": {},
   "source": [
    "lets find the correlation of Runs with respect to other parameters - "
   ]
  },
  {
   "cell_type": "code",
   "execution_count": 8,
   "metadata": {},
   "outputs": [
    {
     "data": {
      "text/plain": [
       "#       -0.903390\n",
       "BABIP    0.023339\n",
       "Def      0.085318\n",
       "BsR      0.296123\n",
       "AVG      0.334288\n",
       "OBP      0.413623\n",
       "wOBA     0.463308\n",
       "wRC+     0.465171\n",
       "SLG      0.498010\n",
       "OPS      0.504757\n",
       "K        0.507636\n",
       "BB       0.520553\n",
       "ISO      0.590166\n",
       "Off      0.779140\n",
       "SB       0.810682\n",
       "WAR      0.888944\n",
       "HR       0.897947\n",
       "RBI      0.904174\n",
       "G        0.913627\n",
       "PA       0.951090\n",
       "R        1.000000\n",
       "Name: R, dtype: float64"
      ]
     },
     "execution_count": 8,
     "metadata": {},
     "output_type": "execute_result"
    }
   ],
   "source": [
    "baseball.corr()['R'].sort_values()"
   ]
  },
  {
   "cell_type": "markdown",
   "metadata": {},
   "source": [
    "As per the above correlation with the WAR/Runs, we found that Off, HR, PA, wOBA and ISO \n",
    "are the best parameters to be considered in order to predict expected scores \n",
    "and inturn connection of each player to winning probability of the team."
   ]
  },
  {
   "cell_type": "markdown",
   "metadata": {},
   "source": [
    "Now Lets Plot few things and see where our players stand!!!! "
   ]
  },
  {
   "cell_type": "code",
   "execution_count": 8,
   "metadata": {},
   "outputs": [
    {
     "data": {
      "image/png": "[encoded data removed]",
      "text/plain": [
       "<Figure size 432x288 with 1 Axes>"
      ]
     },
     "metadata": {},
     "output_type": "display_data"
    }
   ],
   "source": [
    "#Redsox_df.Average.hist(normed=True, bins=14)\n",
    "baseball.plot(x='Name', y='WAR', kind='bar') \n",
    "plt.show()"
   ]
  },
  {
   "cell_type": "code",
   "execution_count": 9,
   "metadata": {},
   "outputs": [
    {
     "data": {
      "image/png": "[encoded data removed]",
      "text/plain": [
       "<Figure size 432x288 with 1 Axes>"
      ]
     },
     "metadata": {},
     "output_type": "display_data"
    }
   ],
   "source": [
    "#Redsox_df.Average.hist(normed=True, bins=14)\n",
    "baseball.plot(x='Name', y='ISO', kind='bar') \n",
    "plt.show()"
   ]
  },
  {
   "cell_type": "code",
   "execution_count": 10,
   "metadata": {},
   "outputs": [
    {
     "data": {
      "image/png": "[encoded data removed]",
      "text/plain": [
       "<Figure size 432x288 with 1 Axes>"
      ]
     },
     "metadata": {},
     "output_type": "display_data"
    }
   ],
   "source": [
    "#Redsox_df.Average.hist(normed=True, bins=14)\n",
    "baseball.plot(x='Name', y='HR', kind='bar') \n",
    "plt.show()"
   ]
  },
  {
   "cell_type": "code",
   "execution_count": 11,
   "metadata": {},
   "outputs": [
    {
     "data": {
      "image/png": "[encoded data removed]",
      "text/plain": [
       "<Figure size 432x288 with 1 Axes>"
      ]
     },
     "metadata": {},
     "output_type": "display_data"
    }
   ],
   "source": [
    "#Redsox_df.Average.hist(normed=True, bins=14)\n",
    "baseball.plot(x='Name', y='Off', kind='bar') \n",
    "plt.show()"
   ]
  },
  {
   "cell_type": "code",
   "execution_count": 12,
   "metadata": {},
   "outputs": [
    {
     "data": {
      "image/png": "[encoded data removed]",
      "text/plain": [
       "<Figure size 432x288 with 1 Axes>"
      ]
     },
     "metadata": {},
     "output_type": "display_data"
    }
   ],
   "source": [
    "#Redsox_df.Average.hist(normed=True, bins=14)\n",
    "baseball.plot(x='Name', y='PA', kind='bar') \n",
    "plt.show()"
   ]
  },
  {
   "cell_type": "markdown",
   "metadata": {},
   "source": [
    "Few More Plots !! "
   ]
  },
  {
   "cell_type": "code",
   "execution_count": 14,
   "metadata": {},
   "outputs": [
    {
     "data": {
      "image/png": "[encoded data removed]",
      "text/plain": [
       "<Figure size 432x288 with 1 Axes>"
      ]
     },
     "metadata": {},
     "output_type": "display_data"
    }
   ],
   "source": [
    "baseball.plot(x='WAR', y='R', style='ro', legend=False, xlim=(-2,14));"
   ]
  },
  {
   "cell_type": "code",
   "execution_count": 18,
   "metadata": {},
   "outputs": [
    {
     "data": {
      "image/png": "[encoded data removed]",
      "text/plain": [
       "<Figure size 432x288 with 1 Axes>"
      ]
     },
     "metadata": {},
     "output_type": "display_data"
    }
   ],
   "source": [
    "baseball.plot(x='HR', y='R', style='bo', legend=False, xlim=(0,60));"
   ]
  },
  {
   "cell_type": "code",
   "execution_count": 22,
   "metadata": {},
   "outputs": [
    {
     "data": {
      "image/png": "[encoded data removed]",
      "text/plain": [
       "<Figure size 432x288 with 1 Axes>"
      ]
     },
     "metadata": {},
     "output_type": "display_data"
    }
   ],
   "source": [
    "baseball.plot(x='Off', y='R', style='bo', legend=False, xlim=(0,70));"
   ]
  },
  {
   "cell_type": "code",
   "execution_count": 23,
   "metadata": {},
   "outputs": [
    {
     "data": {
      "image/png": "[encoded data removed]",
      "text/plain": [
       "<Figure size 432x288 with 1 Axes>"
      ]
     },
     "metadata": {},
     "output_type": "display_data"
    }
   ],
   "source": [
    "baseball.plot(x='HR', y='R', style='bo', legend=False, xlim=(0,50));"
   ]
  },
  {
   "cell_type": "code",
   "execution_count": 24,
   "metadata": {},
   "outputs": [
    {
     "data": {
      "image/png": "[encoded data removed]",
      "text/plain": [
       "<Figure size 432x288 with 1 Axes>"
      ]
     },
     "metadata": {},
     "output_type": "display_data"
    }
   ],
   "source": [
    "#Redsox_df.Average.hist(normed=True, bins=14)\n",
    "baseball.plot(x='Name', y='R', kind='bar') \n",
    "plt.show()"
   ]
  },
  {
   "cell_type": "markdown",
   "metadata": {},
   "source": [
    "Priors\n",
    "The first step in specifying our model is to specify priors for our model.\n",
    "\n",
    "Lets use a linear model for μ, with an intercept (bias) factor and 5 linear factors slope1,slope2,\n",
    "slope3,slope4 and slope5 to represent PA, HR, ISO, WAR and wOBA:\n",
    "\n",
    "μ=intercept+slope1∗x+slope2∗z\n",
    " \n",
    "We are going to model these factors as normal distributions with a wide support:\n",
    "\n",
    "∼Normal(0,100)\n",
    " \n",
    "and finally the standard deviation of our modelled Points will be a half Cauchy:\n",
    "\n",
    "σ∼HalfCauchy(1)\n",
    " \n",
    "Since we want to track slope1,slope2,slope3,slope4 and slope5 we need to add them as deterministic variables of our model: pm.Deterministic."
   ]
  },
  {
   "cell_type": "code",
   "execution_count": 68,
   "metadata": {},
   "outputs": [],
   "source": [
    "N = len(baseball.WAR)\n",
    "from pymc3 import Normal, HalfCauchy, Deterministic, Model\n",
    "with pm.Model() as baseball_model:\n",
    "    \n",
    "    intercept = Normal('intercept', 0, sd=100)\n",
    "    slope1 = Normal('slope1', 0, sd=100)\n",
    "    slope2 = Normal('slope2', 0, sd=100)\n",
    "    slope3 = Normal('slope3', 0, sd=100)\n",
    "    slope4 = Normal('slope4', 0, sd=100)\n",
    "    slope5 = Normal('slope5', 0, sd=100)\n",
    "    "
   ]
  },
  {
   "cell_type": "code",
   "execution_count": 69,
   "metadata": {},
   "outputs": [],
   "source": [
    "with baseball_model:\n",
    "    \n",
    "    pa = Deterministic('pa', slope1)\n",
    "    war = Deterministic('war', slope2)\n",
    "    woba = Deterministic('woba', slope3)\n",
    "    iso = Deterministic('iso', slope4)\n",
    "    hr = Deterministic('hr', slope5)\n",
    "    σ = HalfCauchy('σ', 1)\n",
    "   "
   ]
  },
  {
   "cell_type": "code",
   "execution_count": 70,
   "metadata": {},
   "outputs": [],
   "source": [
    "with baseball_model:\n",
    "    \n",
    "    μ = intercept + slope1*baseball.PA + slope2*baseball.WAR + slope3*baseball.wOBA + slope4*baseball.ISO + slope5*baseball.HR\n",
    "    score = Normal('score', μ, sd=σ, observed=baseball.R)"
   ]
  },
  {
   "cell_type": "markdown",
   "metadata": {},
   "source": [
    "All right! Now our regression model is fully specified and you are ready to track your posteriors.\n",
    "\n",
    "You can now use the fitting method of your choice to estimate a posterior distribution. Let's use a Markov chain Monte Carlo algorithm, called NUTS (the No U-Turn Sampler)."
   ]
  },
  {
   "cell_type": "code",
   "execution_count": 71,
   "metadata": {},
   "outputs": [
    {
     "name": "stderr",
     "output_type": "stream",
     "text": [
      "Auto-assigning NUTS sampler...\n",
      "Initializing NUTS using jitter+adapt_diag...\n",
      "Multiprocess sampling (4 chains in 4 jobs)\n",
      "NUTS: [σ, hr, iso, woba, war, pa, intercept]\n",
      "Sampling 4 chains: 100%|██████████| 12000/12000 [00:54<00:00, 218.74draws/s]\n",
      "There were 27 divergences after tuning. Increase `target_accept` or reparameterize.\n",
      "There were 36 divergences after tuning. Increase `target_accept` or reparameterize.\n",
      "There were 35 divergences after tuning. Increase `target_accept` or reparameterize.\n",
      "There were 48 divergences after tuning. Increase `target_accept` or reparameterize.\n",
      "The number of effective samples is smaller than 25% for some parameters.\n"
     ]
    }
   ],
   "source": [
    "from pymc3 import sample\n",
    "\n",
    "with baseball_model:\n",
    "\n",
    "    baseball_sample = sample(2500, random_seed=RANDOM_SEED)"
   ]
  },
  {
   "cell_type": "markdown",
   "metadata": {},
   "source": [
    "Let's plot posteriors : "
   ]
  },
  {
   "cell_type": "code",
   "execution_count": 72,
   "metadata": {},
   "outputs": [
    {
     "data": {
      "image/png": "[encoded data removed]",
      "text/plain": [
       "<Figure size 864x720 with 8 Axes>"
      ]
     },
     "metadata": {},
     "output_type": "display_data"
    }
   ],
   "source": [
    "from pymc3 import plot_posterior\n",
    "\n",
    "plot_posterior(baseball_sample);"
   ]
  },
  {
   "cell_type": "markdown",
   "metadata": {},
   "source": [
    "#Checking model fit\n",
    "\n",
    "One intuitive way of evaluating model fit is to compare model predictions with the observations used to fit the model. In other words, the fitted model can be used to simulate data, and the distribution of the simulated data should resemble the distribution of the actual data."
   ]
  },
  {
   "cell_type": "code",
   "execution_count": 73,
   "metadata": {},
   "outputs": [
    {
     "name": "stderr",
     "output_type": "stream",
     "text": [
      "100%|██████████| 1000/1000 [00:01<00:00, 659.04it/s]\n"
     ]
    }
   ],
   "source": [
    "from pymc3 import sample_ppc\n",
    "\n",
    "with baseball_model:\n",
    "    \n",
    "    baseball_ppc = sample_ppc(baseball_sample, 1000)"
   ]
  },
  {
   "cell_type": "code",
   "execution_count": 74,
   "metadata": {},
   "outputs": [
    {
     "data": {
      "text/plain": [
       "array([[129.17826624, 118.56200258,  85.37086266, ...,  19.31192944,\n",
       "          5.11656179,  -1.14852531],\n",
       "       [134.20358202, 115.84867423,  86.08340673, ...,  21.8003144 ,\n",
       "          1.50531255,  -1.16846653],\n",
       "       [154.55324193, 106.97882062, 104.75480089, ...,  -4.51327122,\n",
       "          0.63564848,  -6.81989118],\n",
       "       ...,\n",
       "       [143.03770376, 107.14419352, 101.76592662, ...,   2.80021915,\n",
       "          5.08406965,   9.06462461],\n",
       "       [140.47496649, 101.0509572 ,  93.79399803, ...,  21.47605941,\n",
       "          5.34218426,  12.09866918],\n",
       "       [104.80068696, 106.39509068,  91.74743777, ...,  21.86633292,\n",
       "         10.59278679,  19.77564512]])"
      ]
     },
     "execution_count": 74,
     "metadata": {},
     "output_type": "execute_result"
    }
   ],
   "source": [
    "baseball_ppc['score']"
   ]
  },
  {
   "cell_type": "code",
   "execution_count": 75,
   "metadata": {},
   "outputs": [
    {
     "data": {
      "text/plain": [
       "1000"
      ]
     },
     "execution_count": 75,
     "metadata": {},
     "output_type": "execute_result"
    }
   ],
   "source": [
    "len(baseball_ppc['score'])"
   ]
  },
  {
   "cell_type": "code",
   "execution_count": 76,
   "metadata": {},
   "outputs": [
    {
     "data": {
      "text/plain": [
       "14"
      ]
     },
     "execution_count": 76,
     "metadata": {},
     "output_type": "execute_result"
    }
   ],
   "source": [
    "len(baseball_ppc['score'][0])"
   ]
  },
  {
   "cell_type": "markdown",
   "metadata": {},
   "source": [
    "We can now compare these simulated data to the data we used to fit the model.\n",
    "\n",
    "The model should prove that it could have been used to generate the game data that we observed."
   ]
  },
  {
   "cell_type": "code",
   "execution_count": 78,
   "metadata": {
    "scrolled": true
   },
   "outputs": [
    {
     "data": {
      "image/png": "[encoded data removed]",
      "text/plain": [
       "<Figure size 432x288 with 15 Axes>"
      ]
     },
     "metadata": {},
     "output_type": "display_data"
    }
   ],
   "source": [
    "fig, axes = plt.subplots(5, 3)\n",
    "axes_flat = axes.flatten()\n",
    "\n",
    "for ax, real_data, sim_data in zip(axes_flat[:], baseball.R, baseball_ppc['score'].T):\n",
    "    ax.hist(sim_data, bins=20)\n",
    "    ax.vlines(real_data, *ax.get_ylim(), colors='red')\n",
    "    ax.set_yticklabels([])\n",
    "    sns.despine(left=True)\n",
    "\n",
    "#axes_flat[-1].axis('off')\n",
    "plt.tight_layout()"
   ]
  },
  {
   "cell_type": "markdown",
   "metadata": {},
   "source": [
    "Looks Good! "
   ]
  },
  {
   "cell_type": "markdown",
   "metadata": {},
   "source": [
    "What is the interval for the likely values for the PAs, WAR etc?"
   ]
  },
  {
   "cell_type": "code",
   "execution_count": 115,
   "metadata": {},
   "outputs": [
    {
     "data": {
      "text/plain": [
       "array([0.06636808, 0.13851208])"
      ]
     },
     "execution_count": 115,
     "metadata": {},
     "output_type": "execute_result"
    }
   ],
   "source": [
    "import pymc3 as pm\n",
    "pm.stats.hpd(baseball_sample['pa'])"
   ]
  },
  {
   "cell_type": "code",
   "execution_count": 94,
   "metadata": {},
   "outputs": [
    {
     "data": {
      "text/plain": [
       "array([2.58774123, 8.54613703])"
      ]
     },
     "execution_count": 94,
     "metadata": {},
     "output_type": "execute_result"
    }
   ],
   "source": [
    "pm.stats.hpd(baseball_sample['war'])"
   ]
  },
  {
   "cell_type": "markdown",
   "metadata": {},
   "source": [
    "Lets calculate quantiles for parameters - "
   ]
  },
  {
   "cell_type": "code",
   "execution_count": 96,
   "metadata": {},
   "outputs": [
    {
     "data": {
      "text/plain": [
       "{2.5: 0.0670737323722508,\n",
       " 25: 0.09164084111208261,\n",
       " 50: 0.10322821835126209,\n",
       " 75: 0.11463436530541316,\n",
       " 97.5: 0.1393764774412441}"
      ]
     },
     "execution_count": 96,
     "metadata": {},
     "output_type": "execute_result"
    }
   ],
   "source": [
    "pm.stats.quantiles(baseball_sample['pa'])"
   ]
  },
  {
   "cell_type": "code",
   "execution_count": 97,
   "metadata": {},
   "outputs": [
    {
     "data": {
      "text/plain": [
       "{2.5: -136.95477220301498,\n",
       " 25: -46.334264047915646,\n",
       " 50: -3.3007713443171696,\n",
       " 75: 41.720058523183994,\n",
       " 97.5: 125.60040077029349}"
      ]
     },
     "execution_count": 97,
     "metadata": {},
     "output_type": "execute_result"
    }
   ],
   "source": [
    "pm.stats.quantiles(baseball_sample['woba'])"
   ]
  },
  {
   "cell_type": "code",
   "execution_count": 99,
   "metadata": {},
   "outputs": [
    {
     "data": {
      "text/plain": [
       "{2.5: -120.87085001999797,\n",
       " 25: -46.452621731485124,\n",
       " 50: -8.513025953389343,\n",
       " 75: 31.718069822130488,\n",
       " 97.5: 108.21579565643958}"
      ]
     },
     "execution_count": 99,
     "metadata": {},
     "output_type": "execute_result"
    }
   ],
   "source": [
    "pm.stats.quantiles(baseball_sample['iso'])"
   ]
  },
  {
   "cell_type": "markdown",
   "metadata": {},
   "source": [
    "Now, From the sample scores , lets figure out the mean score for each of the 14 players and see which have the highest expected scores\n",
    "taking into consideration all the other 5 parameters - "
   ]
  },
  {
   "cell_type": "code",
   "execution_count": 111,
   "metadata": {},
   "outputs": [
    {
     "data": {
      "text/plain": [
       "array([125.00294896, 107.0331869 ,  90.69283132,  94.45681261,\n",
       "        72.37986245,  46.70965739,  24.6800079 ,  60.36217747,\n",
       "        53.6037933 ,   0.78700982,  15.22244691,   7.9827823 ,\n",
       "         1.45438008,   1.06595505])"
      ]
     },
     "execution_count": 111,
     "metadata": {},
     "output_type": "execute_result"
    }
   ],
   "source": [
    "sum_score= sum(baseball_ppc['score'])\n",
    "mean_score= sum_score/1000\n",
    "mean_score"
   ]
  },
  {
   "cell_type": "markdown",
   "metadata": {},
   "source": [
    "Conclusion : \n",
    "\n",
    "We check the expected score(calculated using 5 different parameters) of each player in 'mean_score' \n",
    "variable and arrange the players in batting order using the below criteria : \n",
    "    \n",
    "    Batting Pos #1 : 3RD BEST\n",
    "    Batting Pos #2 : 4TH BEST\n",
    "    Batting Pos #3 : BEST SCORER/HITTER\n",
    "    Batting Pos #4 : 2ND BEST\n",
    "    Batting Pos #5 : 5TH BEST\n",
    "    Batting Pos #6 : 6TH BEST\n",
    "    Batting Pos #7 : 7TH BEST\n",
    "    Batting Pos #8 : 8TH BEST\n",
    "    Batting Pos #9 : 9TH BEST\n",
    "    \n",
    "\n",
    "    #1st : Xander Bogarts\n",
    "    #2nd : Andrew Benintendi\n",
    "    #3rd : Mookie Battes\n",
    "    #4th : J.D.Martinez\n",
    "    #5th : Jackie Bradley Jr\n",
    "    #6th : Rafael Devers\n",
    "    #7th : Mitch Morland\n",
    "    #8th : Brock Holt\n",
    "    #9th : Steve Pearce\n",
    "\n"
   ]
  }
 ],
 "metadata": {
  "kernelspec": {
   "display_name": "Python 3",
   "language": "python",
   "name": "python3"
  },
  "language_info": {
   "codemirror_mode": {
    "name": "ipython",
    "version": 3
   },
   "file_extension": ".py",
   "mimetype": "text/x-python",
   "name": "python",
   "nbconvert_exporter": "python",
   "pygments_lexer": "ipython3",
   "version": "3.6.5"
  }
 },
 "nbformat": 4,
 "nbformat_minor": 2
}
